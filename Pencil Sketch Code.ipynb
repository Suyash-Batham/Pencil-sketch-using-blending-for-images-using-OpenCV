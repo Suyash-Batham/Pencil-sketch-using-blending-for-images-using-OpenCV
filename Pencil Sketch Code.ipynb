{
 "cells": [
  {
   "cell_type": "code",
   "execution_count": null,
   "metadata": {},
   "outputs": [],
   "source": [
    "import cv2\n",
    "import sys\n",
    "\n",
    "#read image\n",
    "image = cv2.imread('C:/Users/susya/OneDrive/Desktop/m.jpg',1)\n",
    "\n",
    "#check if image exists\n",
    "if image is None:\n",
    "    print(\"can not find image\")\n",
    "    sys.exit()\n",
    "\n",
    "#convert to gray scale\n",
    "grayImage = cv2.cvtColor(image, cv2.COLOR_BGR2GRAY)\n",
    "\n",
    "#invert the gray image\n",
    "grayImageInv = 255 - grayImage\n",
    "\n",
    "#Apply gaussian blur\n",
    "grayImageInv = cv2.GaussianBlur(grayImageInv, (21, 21), 0)\n",
    "\n",
    "#blend using color dodge\n",
    "output = cv2.divide(grayImage, 255-grayImageInv, scale=256.0)\n",
    "\n",
    "#create windows to dsiplay images\n",
    "cv2.namedWindow(\"image\", cv2.WINDOW_NORMAL)\n",
    "cv2.namedWindow(\"pencilsketch\", cv2.WINDOW_NORMAL)\n",
    "\n",
    "#display images\n",
    "cv2.imshow(\"image\", image)\n",
    "cv2.imshow(\"pencilsketch\", output)\n",
    "\n",
    "#press esc to exit the program\n",
    "cv2.waitKey(0)\n",
    "\n",
    "#close all the opened windows\n",
    "cv2.destroyAllWindows()"
   ]
  },
  {
   "cell_type": "code",
   "execution_count": null,
   "metadata": {},
   "outputs": [],
   "source": []
  }
 ],
 "metadata": {
  "kernelspec": {
   "display_name": "Python 3",
   "language": "python",
   "name": "python3"
  },
  "language_info": {
   "codemirror_mode": {
    "name": "ipython",
    "version": 3
   },
   "file_extension": ".py",
   "mimetype": "text/x-python",
   "name": "python",
   "nbconvert_exporter": "python",
   "pygments_lexer": "ipython3",
   "version": "3.7.3"
  }
 },
 "nbformat": 4,
 "nbformat_minor": 2
}
